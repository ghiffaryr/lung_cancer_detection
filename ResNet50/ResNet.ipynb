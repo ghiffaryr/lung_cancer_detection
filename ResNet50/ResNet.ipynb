{
  "nbformat": 4,
  "nbformat_minor": 0,
  "metadata": {
    "colab": {
      "name": "ResNet.ipynb",
      "provenance": [],
      "collapsed_sections": [
        "iwLCGv64qV1h",
        "TXfO9Fv5qZ4R",
        "Nk2EQ-aBqirB",
        "BlRRbpqVqlqA",
        "LuTIh1EMqoZJ",
        "qtwZ7p2lq95h"
      ],
      "toc_visible": true
    },
    "kernelspec": {
      "display_name": "Python 3",
      "name": "python3"
    },
    "language_info": {
      "name": "python"
    },
    "accelerator": "GPU"
  },
  "cells": [
    {
      "cell_type": "markdown",
      "metadata": {
        "id": "8xfPXT5Bp5fo"
      },
      "source": [
        "# Lung Cancer Detection"
      ]
    },
    {
      "cell_type": "markdown",
      "metadata": {
        "id": "_kGskzfdqDR5"
      },
      "source": [
        "## Download Data"
      ]
    },
    {
      "cell_type": "code",
      "metadata": {
        "colab": {
          "base_uri": "https://localhost:8080/"
        },
        "id": "A3EBu3vgj-b-",
        "outputId": "f2622e59-fbc1-455c-9c93-4094fdc27c53"
      },
      "source": [
        "!wget https://md-datasets-cache-zipfiles-prod.s3.eu-west-1.amazonaws.com/bhmdr45bh2-2.zip"
      ],
      "execution_count": 6,
      "outputs": [
        {
          "output_type": "stream",
          "text": [
            "--2021-06-13 10:18:07--  https://md-datasets-cache-zipfiles-prod.s3.eu-west-1.amazonaws.com/bhmdr45bh2-2.zip\n",
            "Resolving md-datasets-cache-zipfiles-prod.s3.eu-west-1.amazonaws.com (md-datasets-cache-zipfiles-prod.s3.eu-west-1.amazonaws.com)... 52.218.53.115\n",
            "Connecting to md-datasets-cache-zipfiles-prod.s3.eu-west-1.amazonaws.com (md-datasets-cache-zipfiles-prod.s3.eu-west-1.amazonaws.com)|52.218.53.115|:443... connected.\n",
            "HTTP request sent, awaiting response... 200 OK\n",
            "Length: 156614682 (149M) [application/octet-stream]\n",
            "Saving to: ‘bhmdr45bh2-2.zip’\n",
            "\n",
            "bhmdr45bh2-2.zip    100%[===================>] 149.36M  11.6MB/s    in 15s     \n",
            "\n",
            "2021-06-13 10:18:23 (10.0 MB/s) - ‘bhmdr45bh2-2.zip’ saved [156614682/156614682]\n",
            "\n"
          ],
          "name": "stdout"
        }
      ]
    },
    {
      "cell_type": "markdown",
      "metadata": {
        "id": "6sAAH69SqK8j"
      },
      "source": [
        "## Extract Data"
      ]
    },
    {
      "cell_type": "code",
      "metadata": {
        "colab": {
          "base_uri": "https://localhost:8080/"
        },
        "id": "MmAKyz4J46e5",
        "outputId": "660f1d8e-1614-4a32-e441-33aa8bb53145"
      },
      "source": [
        "!unzip '/content/bhmdr45bh2-2.zip' -d '/tmp'"
      ],
      "execution_count": 7,
      "outputs": [
        {
          "output_type": "stream",
          "text": [
            "Archive:  /content/bhmdr45bh2-2.zip\n",
            "  inflating: /tmp/The IQ-OTHNCCD lung cancer dataset.zip  \n"
          ],
          "name": "stdout"
        }
      ]
    },
    {
      "cell_type": "code",
      "metadata": {
        "id": "aRmhy9KZ5LTe"
      },
      "source": [
        "!unzip '/tmp/The IQ-OTHNCCD lung cancer dataset.zip' -d '/tmp'"
      ],
      "execution_count": null,
      "outputs": []
    },
    {
      "cell_type": "markdown",
      "metadata": {
        "id": "RHHvre-1qPPq"
      },
      "source": [
        "## Splitting Data"
      ]
    },
    {
      "cell_type": "code",
      "metadata": {
        "id": "MammVlGIpMEU"
      },
      "source": [
        "import os\n",
        "\n",
        "try:\n",
        "    os.makedirs(\"/tmp/lung-cancer/training/benign/\")\n",
        "    os.makedirs(\"/tmp/lung-cancer/testing/benign/\")\n",
        "\n",
        "    os.makedirs(\"/tmp/lung-cancer/training/malignant/\")\n",
        "    os.makedirs(\"/tmp/lung-cancer/testing/malignant/\")\n",
        "\n",
        "    os.makedirs(\"/tmp/lung-cancer/training/normal/\")\n",
        "    os.makedirs(\"/tmp/lung-cancer/testing/normal/\")\n",
        "\n",
        "except OSError:\n",
        "    pass"
      ],
      "execution_count": 9,
      "outputs": []
    },
    {
      "cell_type": "code",
      "metadata": {
        "id": "S5-yBjwErE_5"
      },
      "source": [
        "import random\n",
        "from shutil import copyfile\n",
        "\n",
        "def split_data(SOURCE, TRAINING, TESTING, SPLIT_SIZE):\n",
        "    dir_content = random.sample(os.listdir(SOURCE), len(os.listdir(SOURCE)))\n",
        "    train_size = int(len(dir_content) * SPLIT_SIZE)\n",
        "    for i, image_name in enumerate(dir_content):\n",
        "        if os.path.getsize(os.path.join(SOURCE, image_name)) > 0:\n",
        "            if i < train_size:\n",
        "                copyfile(os.path.join(SOURCE, image_name), os.path.join(TRAINING, image_name))\n",
        "            else:\n",
        "                copyfile(os.path.join(SOURCE, image_name), os.path.join(TESTING, image_name))\n",
        "\n",
        "BENGIN_SOURCE_DIR = \"/tmp/The IQ-OTHNCCD lung cancer dataset/Bengin cases\"\n",
        "TRAINING_BENGIN_DIR = \"/tmp/lung-cancer/training/benign/\"\n",
        "TESTING_BENGIN_DIR = \"/tmp/lung-cancer/testing/benign/\"\n",
        "\n",
        "MALIGNANT_SOURCE_DIR = \"/tmp/The IQ-OTHNCCD lung cancer dataset/Malignant cases\"\n",
        "TRAINING_MALIGNANT_DIR = \"/tmp/lung-cancer/training/malignant\"\n",
        "TESTING_MALIGNANT_DIR = \"/tmp/lung-cancer/testing/malignant/\"\n",
        "\n",
        "NORMAL_SOURCE_DIR = \"/tmp/The IQ-OTHNCCD lung cancer dataset/Normal cases\"\n",
        "TRAINING_NORMAL_DIR = \"/tmp/lung-cancer/training/normal/\"\n",
        "TESTING_NORMAL_DIR = \"/tmp/lung-cancer/testing/normal/\"\n",
        "\n",
        "split_size = .9\n",
        "split_data(BENGIN_SOURCE_DIR, TRAINING_BENGIN_DIR, TESTING_BENGIN_DIR, split_size)\n",
        "split_data(MALIGNANT_SOURCE_DIR, TRAINING_MALIGNANT_DIR, TESTING_MALIGNANT_DIR, split_size)\n",
        "split_data(NORMAL_SOURCE_DIR, TRAINING_NORMAL_DIR, TESTING_NORMAL_DIR, split_size)"
      ],
      "execution_count": 10,
      "outputs": []
    },
    {
      "cell_type": "code",
      "metadata": {
        "colab": {
          "base_uri": "https://localhost:8080/"
        },
        "id": "rotgPnaJs1EU",
        "outputId": "559dc990-5f00-4ba6-8f4f-f32f3316a158"
      },
      "source": [
        "print(len(os.listdir('/tmp/lung-cancer/training/benign/')))\n",
        "print(len(os.listdir('/tmp/lung-cancer/training/malignant/')))\n",
        "print(len(os.listdir('/tmp/lung-cancer/training/normal/')))\n",
        "print()\n",
        "print(len(os.listdir('/tmp/lung-cancer/testing/benign/')))\n",
        "print(len(os.listdir('/tmp/lung-cancer/testing/malignant/')))\n",
        "print(len(os.listdir('/tmp/lung-cancer/testing/normal/')))"
      ],
      "execution_count": 11,
      "outputs": [
        {
          "output_type": "stream",
          "text": [
            "108\n",
            "504\n",
            "374\n",
            "\n",
            "12\n",
            "57\n",
            "42\n"
          ],
          "name": "stdout"
        }
      ]
    },
    {
      "cell_type": "markdown",
      "metadata": {
        "id": "hq5HwQ2Uh1ow"
      },
      "source": [
        "# ResNet"
      ]
    },
    {
      "cell_type": "markdown",
      "metadata": {
        "id": "vHO-IsYKp22K"
      },
      "source": [
        "## Modeling with Resnet"
      ]
    },
    {
      "cell_type": "code",
      "metadata": {
        "id": "bJ1rzMjHp2N4"
      },
      "source": [
        "from tensorflow.keras.applications import ResNet50V2\n",
        "from tensorflow.keras.models import Sequential\n",
        "from tensorflow.keras.regularizers import L1\n",
        "from tensorflow.keras.optimizers import Adam\n",
        "from tensorflow.keras import layers\n",
        "from tensorflow import keras\n",
        "import tensorflow as tf\n",
        "\n",
        "conv_base = ResNet50V2(include_top=False, weights='imagenet',\n",
        "                       input_shape=(150,150,3))\n",
        "\n",
        "conv_base.trainable = True\n",
        "set_trainable = False\n",
        "for layer in conv_base.layers:\n",
        "  if layer.name == 'conv5_block1_3_conv':\n",
        "    set_trainable = True\n",
        "  if set_trainable:\n",
        "    layer.trainable = True\n",
        "  else:\n",
        "    layer.trainable = False\n",
        "\n",
        "model = Sequential()\n",
        "model.add(layers.Conv2D(3, (3,3), padding='same',\n",
        "                        input_shape=(150,150,1)))\n",
        "model.add(conv_base)\n",
        "model.add(layers.Flatten())\n",
        "model.add(layers.Dense(512, activation='relu',\n",
        "                                kernel_regularizer=L2(0.1)))\n",
        "model.add(layers.Dense(3, activation='softmax'))\n",
        "\n",
        "optimizer= Adam()\n",
        "model.compile(optimizer=optimizer, loss='categorical_crossentropy',\n",
        "             metrics=[keras.metrics.Precision(name='precision'),\n",
        "                        keras.metrics.Recall(name='recall'),\n",
        "                        keras.metrics.AUC(name='auc'),\n",
        "                        keras.metrics.CategoricalAccuracy(name='acc')])                                                     "
      ],
      "execution_count": 18,
      "outputs": []
    },
    {
      "cell_type": "markdown",
      "metadata": {
        "id": "8IiJ44zvMiQF"
      },
      "source": [
        "## Image Augment Resnet"
      ]
    },
    {
      "cell_type": "code",
      "metadata": {
        "colab": {
          "base_uri": "https://localhost:8080/"
        },
        "id": "YiuTLpA2MlKg",
        "outputId": "2ac2f974-4291-4fd2-a0c5-5c800a12a815"
      },
      "source": [
        "from tensorflow.keras.preprocessing.image import ImageDataGenerator\n",
        "\n",
        "TRAINING_DIR = \"/tmp/lung-cancer/training/\"\n",
        "train_datagen = ImageDataGenerator(\n",
        "    rescale=1./255,\n",
        "    rotation_range=40,\n",
        "    shear_range=.2,\n",
        "    zoom_range=.2,\n",
        "    fill_mode=\"nearest\",\n",
        "    horizontal_flip=True,\n",
        ")\n",
        "\n",
        "train_generator = train_datagen.flow_from_directory(\n",
        "    TRAINING_DIR,\n",
        "    target_size=(150, 150),\n",
        "    batch_size=10,\n",
        "    class_mode=\"categorical\",\n",
        "    color_mode='grayscale',\n",
        ")\n",
        "\n",
        "VALIDATION_DIR = \"/tmp/lung-cancer/testing/\"\n",
        "validation_datagen = ImageDataGenerator(rescale=1./255)\n",
        "\n",
        "validation_generator = validation_datagen.flow_from_directory(\n",
        "    VALIDATION_DIR,\n",
        "    target_size=(150, 150),\n",
        "    batch_size=10,\n",
        "    class_mode=\"categorical\",\n",
        "    color_mode='grayscale',\n",
        ")"
      ],
      "execution_count": 13,
      "outputs": [
        {
          "output_type": "stream",
          "text": [
            "Found 986 images belonging to 3 classes.\n",
            "Found 111 images belonging to 3 classes.\n"
          ],
          "name": "stdout"
        }
      ]
    },
    {
      "cell_type": "markdown",
      "metadata": {
        "id": "Nk2EQ-aBqirB"
      },
      "source": [
        "## Training"
      ]
    },
    {
      "cell_type": "code",
      "metadata": {
        "id": "amOChnqK3c-I"
      },
      "source": [
        "class myCallback(tf.keras.callbacks.Callback):\n",
        "  def __init__(self,\n",
        "               desired_acc=0.5):\n",
        "    self.desired_acc = desired_acc\n",
        "\n",
        "  def on_epoch_end(self, epoch, logs={}):\n",
        "    if(logs.get('val_acc')>self.desired_acc):\n",
        "      print(f\"\\nReached {self.desired_acc} accuracy so cancelling training!\")\n",
        "      self.model.stop_training = True"
      ],
      "execution_count": 19,
      "outputs": []
    },
    {
      "cell_type": "code",
      "metadata": {
        "colab": {
          "base_uri": "https://localhost:8080/"
        },
        "id": "Pm3KIKF93eCk",
        "outputId": "c5cda971-df7a-4b49-a954-741426e56a58"
      },
      "source": [
        "epochs = 100\n",
        "callbacks = myCallback(0.98)\n",
        "history = model.fit(train_generator,\n",
        "                    epochs=100,\n",
        "                    verbose=1,\n",
        "                    validation_data=validation_generator,\n",
        "                    callbacks=[callbacks])"
      ],
      "execution_count": 20,
      "outputs": [
        {
          "output_type": "stream",
          "text": [
            "Epoch 1/100\n",
            "99/99 [==============================] - 24s 194ms/step - loss: 12.7010 - precision: 0.7104 - recall: 0.6045 - auc: 0.8284 - acc: 0.6694 - val_loss: 1.2654 - val_precision: 0.8378 - val_recall: 0.8378 - val_auc: 0.9512 - val_acc: 0.8378\n",
            "Epoch 2/100\n",
            "99/99 [==============================] - 18s 176ms/step - loss: 0.8554 - precision: 0.8426 - recall: 0.7819 - auc: 0.9301 - acc: 0.8134 - val_loss: 0.8534 - val_precision: 0.7600 - val_recall: 0.6847 - val_auc: 0.8715 - val_acc: 0.7207\n",
            "Epoch 3/100\n",
            "99/99 [==============================] - 18s 177ms/step - loss: 0.4948 - precision: 0.8534 - recall: 0.7972 - auc: 0.9527 - acc: 0.8347 - val_loss: 0.4309 - val_precision: 0.8545 - val_recall: 0.8468 - val_auc: 0.9579 - val_acc: 0.8468\n",
            "Epoch 4/100\n",
            "99/99 [==============================] - 17s 176ms/step - loss: 0.4586 - precision: 0.8721 - recall: 0.8022 - auc: 0.9542 - acc: 0.8428 - val_loss: 0.3136 - val_precision: 0.8879 - val_recall: 0.8559 - val_auc: 0.9796 - val_acc: 0.8829\n",
            "Epoch 5/100\n",
            "99/99 [==============================] - 18s 177ms/step - loss: 0.4304 - precision: 0.8683 - recall: 0.8154 - auc: 0.9586 - acc: 0.8408 - val_loss: 0.3697 - val_precision: 0.8846 - val_recall: 0.8288 - val_auc: 0.9696 - val_acc: 0.8468\n",
            "Epoch 6/100\n",
            "99/99 [==============================] - 17s 176ms/step - loss: 0.4687 - precision: 0.8730 - recall: 0.8154 - auc: 0.9628 - acc: 0.8469 - val_loss: 0.3692 - val_precision: 0.8611 - val_recall: 0.8378 - val_auc: 0.9732 - val_acc: 0.8468\n",
            "Epoch 7/100\n",
            "99/99 [==============================] - 18s 177ms/step - loss: 0.4298 - precision: 0.8664 - recall: 0.8154 - auc: 0.9633 - acc: 0.8469 - val_loss: 0.3057 - val_precision: 0.8868 - val_recall: 0.8468 - val_auc: 0.9824 - val_acc: 0.8829\n",
            "Epoch 8/100\n",
            "99/99 [==============================] - 18s 176ms/step - loss: 0.4283 - precision: 0.8817 - recall: 0.8164 - auc: 0.9628 - acc: 0.8519 - val_loss: 0.4243 - val_precision: 0.8704 - val_recall: 0.8468 - val_auc: 0.9736 - val_acc: 0.8649\n",
            "Epoch 9/100\n",
            "99/99 [==============================] - 18s 177ms/step - loss: 0.3686 - precision: 0.8861 - recall: 0.8519 - auc: 0.9719 - acc: 0.8682 - val_loss: 0.3244 - val_precision: 0.8899 - val_recall: 0.8739 - val_auc: 0.9787 - val_acc: 0.8739\n",
            "Epoch 10/100\n",
            "99/99 [==============================] - 18s 176ms/step - loss: 0.2830 - precision: 0.9037 - recall: 0.8661 - auc: 0.9816 - acc: 0.8854 - val_loss: 0.2842 - val_precision: 0.8952 - val_recall: 0.8468 - val_auc: 0.9817 - val_acc: 0.8559\n",
            "Epoch 11/100\n",
            "99/99 [==============================] - 18s 178ms/step - loss: 0.3054 - precision: 0.8892 - recall: 0.8550 - auc: 0.9779 - acc: 0.8763 - val_loss: 0.2887 - val_precision: 0.8785 - val_recall: 0.8468 - val_auc: 0.9805 - val_acc: 0.8559\n",
            "Epoch 12/100\n",
            "99/99 [==============================] - 18s 177ms/step - loss: 0.3133 - precision: 0.9098 - recall: 0.8692 - auc: 0.9788 - acc: 0.8844 - val_loss: 0.2912 - val_precision: 0.8952 - val_recall: 0.8468 - val_auc: 0.9827 - val_acc: 0.8649\n",
            "Epoch 13/100\n",
            "99/99 [==============================] - 18s 178ms/step - loss: 0.3268 - precision: 0.8968 - recall: 0.8550 - auc: 0.9770 - acc: 0.8773 - val_loss: 0.3359 - val_precision: 0.8785 - val_recall: 0.8468 - val_auc: 0.9804 - val_acc: 0.8739\n",
            "Epoch 14/100\n",
            "99/99 [==============================] - 18s 178ms/step - loss: 0.3279 - precision: 0.9060 - recall: 0.8702 - auc: 0.9778 - acc: 0.8864 - val_loss: 0.3163 - val_precision: 0.9074 - val_recall: 0.8829 - val_auc: 0.9850 - val_acc: 0.9009\n",
            "Epoch 15/100\n",
            "99/99 [==============================] - 18s 178ms/step - loss: 0.3052 - precision: 0.9047 - recall: 0.8570 - auc: 0.9811 - acc: 0.8793 - val_loss: 0.2557 - val_precision: 0.9074 - val_recall: 0.8829 - val_auc: 0.9874 - val_acc: 0.9009\n",
            "Epoch 16/100\n",
            "99/99 [==============================] - 18s 177ms/step - loss: 0.2766 - precision: 0.9157 - recall: 0.9037 - auc: 0.9847 - acc: 0.9087 - val_loss: 0.2572 - val_precision: 0.8796 - val_recall: 0.8559 - val_auc: 0.9838 - val_acc: 0.8559\n",
            "Epoch 17/100\n",
            "99/99 [==============================] - 18s 177ms/step - loss: 0.2996 - precision: 0.9241 - recall: 0.9016 - auc: 0.9822 - acc: 0.9158 - val_loss: 0.2510 - val_precision: 0.9189 - val_recall: 0.9189 - val_auc: 0.9875 - val_acc: 0.9189\n",
            "Epoch 18/100\n",
            "99/99 [==============================] - 18s 177ms/step - loss: 0.2665 - precision: 0.9187 - recall: 0.9057 - auc: 0.9857 - acc: 0.9158 - val_loss: 0.2889 - val_precision: 0.9238 - val_recall: 0.8739 - val_auc: 0.9855 - val_acc: 0.8919\n",
            "Epoch 19/100\n",
            "99/99 [==============================] - 18s 177ms/step - loss: 0.2670 - precision: 0.9160 - recall: 0.8955 - auc: 0.9848 - acc: 0.9037 - val_loss: 0.2886 - val_precision: 0.8899 - val_recall: 0.8739 - val_auc: 0.9770 - val_acc: 0.8829\n",
            "Epoch 20/100\n",
            "99/99 [==============================] - 18s 176ms/step - loss: 0.3967 - precision: 0.9298 - recall: 0.9138 - auc: 0.9871 - acc: 0.9209 - val_loss: 0.3174 - val_precision: 0.9266 - val_recall: 0.9099 - val_auc: 0.9902 - val_acc: 0.9099\n",
            "Epoch 21/100\n",
            "99/99 [==============================] - 18s 179ms/step - loss: 0.3158 - precision: 0.9248 - recall: 0.8976 - auc: 0.9838 - acc: 0.9118 - val_loss: 0.2756 - val_precision: 0.8727 - val_recall: 0.8649 - val_auc: 0.9874 - val_acc: 0.8739\n",
            "Epoch 22/100\n",
            "99/99 [==============================] - 18s 177ms/step - loss: 0.2888 - precision: 0.9077 - recall: 0.8874 - auc: 0.9832 - acc: 0.8976 - val_loss: 0.2666 - val_precision: 0.9083 - val_recall: 0.8919 - val_auc: 0.9858 - val_acc: 0.8919\n",
            "Epoch 23/100\n",
            "99/99 [==============================] - 18s 178ms/step - loss: 0.2539 - precision: 0.9270 - recall: 0.9138 - auc: 0.9874 - acc: 0.9189 - val_loss: 0.2590 - val_precision: 0.9259 - val_recall: 0.9009 - val_auc: 0.9899 - val_acc: 0.9189\n",
            "Epoch 24/100\n",
            "99/99 [==============================] - 17s 176ms/step - loss: 0.2540 - precision: 0.9256 - recall: 0.9087 - auc: 0.9861 - acc: 0.9158 - val_loss: 0.1854 - val_precision: 0.9444 - val_recall: 0.9189 - val_auc: 0.9941 - val_acc: 0.9279\n",
            "Epoch 25/100\n",
            "99/99 [==============================] - 18s 177ms/step - loss: 0.2017 - precision: 0.9376 - recall: 0.9300 - auc: 0.9918 - acc: 0.9351 - val_loss: 0.2068 - val_precision: 0.9273 - val_recall: 0.9189 - val_auc: 0.9911 - val_acc: 0.9279\n",
            "Epoch 26/100\n",
            "99/99 [==============================] - 18s 177ms/step - loss: 0.4205 - precision: 0.9239 - recall: 0.9108 - auc: 0.9853 - acc: 0.9209 - val_loss: 0.8041 - val_precision: 0.9252 - val_recall: 0.8919 - val_auc: 0.9882 - val_acc: 0.9099\n",
            "Epoch 27/100\n",
            "99/99 [==============================] - 18s 178ms/step - loss: 1.2003 - precision: 0.9150 - recall: 0.8844 - auc: 0.9740 - acc: 0.8996 - val_loss: 118.9550 - val_precision: 0.7568 - val_recall: 0.7568 - val_auc: 0.8595 - val_acc: 0.7568\n",
            "Epoch 28/100\n",
            "99/99 [==============================] - 18s 178ms/step - loss: 0.6302 - precision: 0.9200 - recall: 0.8976 - auc: 0.9819 - acc: 0.9097 - val_loss: 1.0721 - val_precision: 0.9266 - val_recall: 0.9099 - val_auc: 0.9718 - val_acc: 0.9189\n",
            "Epoch 29/100\n",
            "99/99 [==============================] - 18s 179ms/step - loss: 0.8175 - precision: 0.9151 - recall: 0.8854 - auc: 0.9758 - acc: 0.9026 - val_loss: 0.7113 - val_precision: 0.8739 - val_recall: 0.8739 - val_auc: 0.9669 - val_acc: 0.8739\n",
            "Epoch 30/100\n",
            "99/99 [==============================] - 18s 178ms/step - loss: 0.3270 - precision: 0.9236 - recall: 0.9077 - auc: 0.9858 - acc: 0.9168 - val_loss: 0.3115 - val_precision: 0.9266 - val_recall: 0.9099 - val_auc: 0.9872 - val_acc: 0.9189\n",
            "Epoch 31/100\n",
            "99/99 [==============================] - 18s 178ms/step - loss: 0.2743 - precision: 0.9350 - recall: 0.9189 - auc: 0.9881 - acc: 0.9280 - val_loss: 0.2610 - val_precision: 0.9369 - val_recall: 0.9369 - val_auc: 0.9864 - val_acc: 0.9369\n",
            "Epoch 32/100\n",
            "99/99 [==============================] - 18s 178ms/step - loss: 0.2762 - precision: 0.9149 - recall: 0.9047 - auc: 0.9838 - acc: 0.9108 - val_loss: 0.2988 - val_precision: 0.8919 - val_recall: 0.8919 - val_auc: 0.9866 - val_acc: 0.8919\n",
            "Epoch 33/100\n",
            "99/99 [==============================] - 18s 179ms/step - loss: 0.2054 - precision: 0.9434 - recall: 0.9300 - auc: 0.9916 - acc: 0.9361 - val_loss: 0.2219 - val_precision: 0.9273 - val_recall: 0.9189 - val_auc: 0.9894 - val_acc: 0.9189\n",
            "Epoch 34/100\n",
            "99/99 [==============================] - 18s 176ms/step - loss: 0.1962 - precision: 0.9459 - recall: 0.9402 - auc: 0.9932 - acc: 0.9422 - val_loss: 0.2216 - val_precision: 0.9189 - val_recall: 0.9189 - val_auc: 0.9901 - val_acc: 0.9189\n",
            "Epoch 35/100\n",
            "99/99 [==============================] - 18s 177ms/step - loss: 0.1902 - precision: 0.9429 - recall: 0.9381 - auc: 0.9913 - acc: 0.9391 - val_loss: 0.2276 - val_precision: 0.9189 - val_recall: 0.9189 - val_auc: 0.9882 - val_acc: 0.9189\n",
            "Epoch 36/100\n",
            "99/99 [==============================] - 18s 177ms/step - loss: 0.2036 - precision: 0.9354 - recall: 0.9249 - auc: 0.9910 - acc: 0.9290 - val_loss: 0.2153 - val_precision: 0.9369 - val_recall: 0.9369 - val_auc: 0.9905 - val_acc: 0.9369\n",
            "Epoch 37/100\n",
            "99/99 [==============================] - 18s 178ms/step - loss: 0.7533 - precision: 0.9357 - recall: 0.9148 - auc: 0.9855 - acc: 0.9260 - val_loss: 0.5618 - val_precision: 0.9065 - val_recall: 0.8739 - val_auc: 0.9799 - val_acc: 0.8829\n",
            "Epoch 38/100\n",
            "99/99 [==============================] - 18s 177ms/step - loss: 0.2600 - precision: 0.9479 - recall: 0.9402 - auc: 0.9929 - acc: 0.9452 - val_loss: 0.3541 - val_precision: 0.8919 - val_recall: 0.8919 - val_auc: 0.9785 - val_acc: 0.8919\n",
            "Epoch 39/100\n",
            "99/99 [==============================] - 18s 177ms/step - loss: 0.2103 - precision: 0.9437 - recall: 0.9351 - auc: 0.9914 - acc: 0.9402 - val_loss: 0.2298 - val_precision: 0.9279 - val_recall: 0.9279 - val_auc: 0.9882 - val_acc: 0.9279\n",
            "Epoch 40/100\n",
            "99/99 [==============================] - 17s 176ms/step - loss: 0.5486 - precision: 0.9477 - recall: 0.9371 - auc: 0.9906 - acc: 0.9402 - val_loss: 1.5183 - val_precision: 0.9455 - val_recall: 0.9369 - val_auc: 0.9938 - val_acc: 0.9369\n",
            "Epoch 41/100\n",
            "99/99 [==============================] - 18s 177ms/step - loss: 0.5947 - precision: 0.9561 - recall: 0.9493 - auc: 0.9909 - acc: 0.9533 - val_loss: 0.5021 - val_precision: 0.9167 - val_recall: 0.8919 - val_auc: 0.9830 - val_acc: 0.9009\n",
            "Epoch 42/100\n",
            "99/99 [==============================] - 18s 177ms/step - loss: 0.8625 - precision: 0.9311 - recall: 0.9189 - auc: 0.9827 - acc: 0.9249 - val_loss: 0.9046 - val_precision: 0.9364 - val_recall: 0.9279 - val_auc: 0.9888 - val_acc: 0.9369\n",
            "Epoch 43/100\n",
            "99/99 [==============================] - 18s 177ms/step - loss: 0.4202 - precision: 0.9459 - recall: 0.9391 - auc: 0.9920 - acc: 0.9442 - val_loss: 0.2934 - val_precision: 0.9459 - val_recall: 0.9459 - val_auc: 0.9899 - val_acc: 0.9459\n",
            "Epoch 44/100\n",
            "99/99 [==============================] - 18s 177ms/step - loss: 0.2281 - precision: 0.9488 - recall: 0.9402 - auc: 0.9926 - acc: 0.9422 - val_loss: 0.1851 - val_precision: 0.9550 - val_recall: 0.9550 - val_auc: 0.9942 - val_acc: 0.9550\n",
            "Epoch 45/100\n",
            "99/99 [==============================] - 18s 178ms/step - loss: 0.1916 - precision: 0.9440 - recall: 0.9402 - auc: 0.9926 - acc: 0.9432 - val_loss: 0.2051 - val_precision: 0.9364 - val_recall: 0.9279 - val_auc: 0.9913 - val_acc: 0.9279\n",
            "Epoch 46/100\n",
            "99/99 [==============================] - 18s 177ms/step - loss: 0.2383 - precision: 0.9501 - recall: 0.9452 - auc: 0.9959 - acc: 0.9473 - val_loss: 0.2083 - val_precision: 0.9545 - val_recall: 0.9459 - val_auc: 0.9948 - val_acc: 0.9459\n",
            "Epoch 47/100\n",
            "99/99 [==============================] - 18s 177ms/step - loss: 0.2305 - precision: 0.9548 - recall: 0.9432 - auc: 0.9925 - acc: 0.9483 - val_loss: 0.2504 - val_precision: 0.9640 - val_recall: 0.9640 - val_auc: 0.9946 - val_acc: 0.9640\n",
            "Epoch 48/100\n",
            "99/99 [==============================] - 18s 177ms/step - loss: 0.2572 - precision: 0.9378 - recall: 0.9331 - auc: 0.9907 - acc: 0.9371 - val_loss: 0.2100 - val_precision: 0.9630 - val_recall: 0.9369 - val_auc: 0.9929 - val_acc: 0.9459\n",
            "Epoch 49/100\n",
            "99/99 [==============================] - 18s 178ms/step - loss: 0.1954 - precision: 0.9397 - recall: 0.9331 - auc: 0.9928 - acc: 0.9381 - val_loss: 0.2340 - val_precision: 0.9455 - val_recall: 0.9369 - val_auc: 0.9889 - val_acc: 0.9369\n",
            "Epoch 50/100\n",
            "99/99 [==============================] - 18s 177ms/step - loss: 0.1970 - precision: 0.9482 - recall: 0.9462 - auc: 0.9943 - acc: 0.9483 - val_loss: 1.0868 - val_precision: 0.9009 - val_recall: 0.9009 - val_auc: 0.9806 - val_acc: 0.9009\n",
            "Epoch 51/100\n",
            "99/99 [==============================] - 18s 178ms/step - loss: 0.4568 - precision: 0.9511 - recall: 0.9473 - auc: 0.9936 - acc: 0.9513 - val_loss: 0.2590 - val_precision: 0.9279 - val_recall: 0.9279 - val_auc: 0.9908 - val_acc: 0.9279\n",
            "Epoch 52/100\n",
            "99/99 [==============================] - 18s 177ms/step - loss: 0.1788 - precision: 0.9501 - recall: 0.9462 - auc: 0.9945 - acc: 0.9483 - val_loss: 0.2284 - val_precision: 0.9369 - val_recall: 0.9369 - val_auc: 0.9894 - val_acc: 0.9369\n",
            "Epoch 53/100\n",
            "99/99 [==============================] - 18s 177ms/step - loss: 0.1440 - precision: 0.9562 - recall: 0.9513 - auc: 0.9958 - acc: 0.9523 - val_loss: 0.2807 - val_precision: 0.9099 - val_recall: 0.9099 - val_auc: 0.9800 - val_acc: 0.9099\n",
            "Epoch 54/100\n",
            "99/99 [==============================] - 18s 177ms/step - loss: 0.1427 - precision: 0.9551 - recall: 0.9493 - auc: 0.9961 - acc: 0.9533 - val_loss: 0.2880 - val_precision: 0.9009 - val_recall: 0.9009 - val_auc: 0.9817 - val_acc: 0.9009\n",
            "Epoch 55/100\n",
            "99/99 [==============================] - 18s 176ms/step - loss: 0.2299 - precision: 0.9624 - recall: 0.9594 - auc: 0.9972 - acc: 0.9625 - val_loss: 0.9974 - val_precision: 0.9358 - val_recall: 0.9189 - val_auc: 0.9889 - val_acc: 0.9279\n",
            "Epoch 56/100\n",
            "99/99 [==============================] - 18s 177ms/step - loss: 0.4442 - precision: 0.9674 - recall: 0.9635 - auc: 0.9965 - acc: 0.9665 - val_loss: 0.3490 - val_precision: 0.9099 - val_recall: 0.9099 - val_auc: 0.9858 - val_acc: 0.9099\n",
            "Epoch 57/100\n",
            "99/99 [==============================] - 18s 178ms/step - loss: 0.1928 - precision: 0.9594 - recall: 0.9584 - auc: 0.9962 - acc: 0.9594 - val_loss: 0.2648 - val_precision: 0.9364 - val_recall: 0.9279 - val_auc: 0.9831 - val_acc: 0.9369\n",
            "Epoch 58/100\n",
            "99/99 [==============================] - 18s 177ms/step - loss: 0.1664 - precision: 0.9511 - recall: 0.9462 - auc: 0.9955 - acc: 0.9462 - val_loss: 0.1485 - val_precision: 0.9459 - val_recall: 0.9459 - val_auc: 0.9959 - val_acc: 0.9459\n",
            "Epoch 59/100\n",
            "99/99 [==============================] - 18s 178ms/step - loss: 0.1536 - precision: 0.9552 - recall: 0.9513 - auc: 0.9953 - acc: 0.9554 - val_loss: 0.1505 - val_precision: 0.9459 - val_recall: 0.9459 - val_auc: 0.9954 - val_acc: 0.9459\n",
            "Epoch 60/100\n",
            "99/99 [==============================] - 18s 177ms/step - loss: 0.1442 - precision: 0.9511 - recall: 0.9473 - auc: 0.9955 - acc: 0.9503 - val_loss: 0.2088 - val_precision: 0.9259 - val_recall: 0.9009 - val_auc: 0.9896 - val_acc: 0.9189\n",
            "Epoch 61/100\n",
            "99/99 [==============================] - 18s 178ms/step - loss: 0.1414 - precision: 0.9583 - recall: 0.9564 - auc: 0.9959 - acc: 0.9574 - val_loss: 0.2560 - val_precision: 0.9091 - val_recall: 0.9009 - val_auc: 0.9889 - val_acc: 0.9009\n",
            "Epoch 62/100\n",
            "99/99 [==============================] - 17s 176ms/step - loss: 0.1716 - precision: 0.9579 - recall: 0.9473 - auc: 0.9933 - acc: 0.9523 - val_loss: 0.1538 - val_precision: 0.9727 - val_recall: 0.9640 - val_auc: 0.9933 - val_acc: 0.9640\n",
            "Epoch 63/100\n",
            "99/99 [==============================] - 18s 178ms/step - loss: 0.1526 - precision: 0.9543 - recall: 0.9533 - auc: 0.9951 - acc: 0.9533 - val_loss: 0.1322 - val_precision: 0.9550 - val_recall: 0.9550 - val_auc: 0.9970 - val_acc: 0.9550\n",
            "Epoch 64/100\n",
            "99/99 [==============================] - 18s 177ms/step - loss: 0.1076 - precision: 0.9706 - recall: 0.9696 - auc: 0.9970 - acc: 0.9696 - val_loss: 0.2444 - val_precision: 0.9099 - val_recall: 0.9099 - val_auc: 0.9859 - val_acc: 0.9099\n",
            "Epoch 65/100\n",
            "99/99 [==============================] - 18s 179ms/step - loss: 0.1288 - precision: 0.9573 - recall: 0.9544 - auc: 0.9965 - acc: 0.9554 - val_loss: 0.2389 - val_precision: 0.9266 - val_recall: 0.9099 - val_auc: 0.9884 - val_acc: 0.9189\n",
            "Epoch 66/100\n",
            "99/99 [==============================] - 18s 178ms/step - loss: 0.1124 - precision: 0.9695 - recall: 0.9665 - auc: 0.9961 - acc: 0.9686 - val_loss: 0.2534 - val_precision: 0.8889 - val_recall: 0.8649 - val_auc: 0.9850 - val_acc: 0.8739\n",
            "Epoch 67/100\n",
            "99/99 [==============================] - 18s 179ms/step - loss: 0.1160 - precision: 0.9664 - recall: 0.9615 - auc: 0.9971 - acc: 0.9645 - val_loss: 0.1542 - val_precision: 0.9364 - val_recall: 0.9279 - val_auc: 0.9952 - val_acc: 0.9369\n",
            "Epoch 68/100\n",
            "99/99 [==============================] - 18s 177ms/step - loss: 0.1454 - precision: 0.9643 - recall: 0.9594 - auc: 0.9947 - acc: 0.9604 - val_loss: 0.1797 - val_precision: 0.9439 - val_recall: 0.9099 - val_auc: 0.9922 - val_acc: 0.9369\n",
            "Epoch 69/100\n",
            "99/99 [==============================] - 18s 178ms/step - loss: 0.2095 - precision: 0.9520 - recall: 0.9452 - auc: 0.9924 - acc: 0.9513 - val_loss: 0.2836 - val_precision: 0.9358 - val_recall: 0.9189 - val_auc: 0.9902 - val_acc: 0.9279\n",
            "Epoch 70/100\n",
            "99/99 [==============================] - 18s 177ms/step - loss: 0.8280 - precision: 0.9570 - recall: 0.9483 - auc: 0.9881 - acc: 0.9513 - val_loss: 1.4418 - val_precision: 0.9352 - val_recall: 0.9099 - val_auc: 0.9824 - val_acc: 0.9279\n",
            "Epoch 71/100\n",
            "99/99 [==============================] - 18s 177ms/step - loss: 1.2362 - precision: 0.9168 - recall: 0.9047 - auc: 0.9787 - acc: 0.9097 - val_loss: 1.2180 - val_precision: 0.8868 - val_recall: 0.8468 - val_auc: 0.9588 - val_acc: 0.8559\n",
            "Epoch 72/100\n",
            "99/99 [==============================] - 18s 177ms/step - loss: 0.4916 - precision: 0.9129 - recall: 0.9037 - auc: 0.9824 - acc: 0.9087 - val_loss: 0.3064 - val_precision: 0.9091 - val_recall: 0.9009 - val_auc: 0.9876 - val_acc: 0.9099\n",
            "Epoch 73/100\n",
            "99/99 [==============================] - 18s 177ms/step - loss: 0.3014 - precision: 0.9458 - recall: 0.9381 - auc: 0.9921 - acc: 0.9422 - val_loss: 0.2126 - val_precision: 0.9636 - val_recall: 0.9550 - val_auc: 0.9916 - val_acc: 0.9640\n",
            "Epoch 74/100\n",
            "99/99 [==============================] - 18s 177ms/step - loss: 0.4595 - precision: 0.9356 - recall: 0.9280 - auc: 0.9879 - acc: 0.9320 - val_loss: 0.3603 - val_precision: 0.9369 - val_recall: 0.9369 - val_auc: 0.9903 - val_acc: 0.9369\n",
            "Epoch 75/100\n",
            "99/99 [==============================] - 18s 177ms/step - loss: 0.2219 - precision: 0.9489 - recall: 0.9422 - auc: 0.9949 - acc: 0.9442 - val_loss: 0.2574 - val_precision: 0.9279 - val_recall: 0.9279 - val_auc: 0.9851 - val_acc: 0.9279\n",
            "Epoch 76/100\n",
            "99/99 [==============================] - 18s 177ms/step - loss: 0.1507 - precision: 0.9613 - recall: 0.9564 - auc: 0.9964 - acc: 0.9584 - val_loss: 0.2236 - val_precision: 0.9099 - val_recall: 0.9099 - val_auc: 0.9891 - val_acc: 0.9099\n",
            "Epoch 77/100\n",
            "99/99 [==============================] - 18s 178ms/step - loss: 0.1275 - precision: 0.9654 - recall: 0.9615 - auc: 0.9971 - acc: 0.9635 - val_loss: 0.2161 - val_precision: 0.9189 - val_recall: 0.9189 - val_auc: 0.9854 - val_acc: 0.9189\n",
            "Epoch 78/100\n",
            "99/99 [==============================] - 18s 178ms/step - loss: 1.4302 - precision: 0.9518 - recall: 0.9412 - auc: 0.9874 - acc: 0.9442 - val_loss: 1.4422 - val_precision: 0.9550 - val_recall: 0.9550 - val_auc: 0.9863 - val_acc: 0.9550\n",
            "Epoch 79/100\n",
            "99/99 [==============================] - 18s 177ms/step - loss: 1.3249 - precision: 0.9200 - recall: 0.9097 - auc: 0.9809 - acc: 0.9178 - val_loss: 3.1176 - val_precision: 0.8909 - val_recall: 0.8829 - val_auc: 0.9424 - val_acc: 0.8919\n",
            "Epoch 80/100\n",
            "99/99 [==============================] - 18s 177ms/step - loss: 0.3641 - precision: 0.9427 - recall: 0.9351 - auc: 0.9910 - acc: 0.9412 - val_loss: 0.2747 - val_precision: 0.9279 - val_recall: 0.9279 - val_auc: 0.9911 - val_acc: 0.9279\n",
            "Epoch 81/100\n",
            "99/99 [==============================] - 18s 179ms/step - loss: 0.1977 - precision: 0.9480 - recall: 0.9422 - auc: 0.9949 - acc: 0.9452 - val_loss: 0.1933 - val_precision: 0.9369 - val_recall: 0.9369 - val_auc: 0.9937 - val_acc: 0.9369\n",
            "Epoch 82/100\n",
            "99/99 [==============================] - 18s 178ms/step - loss: 0.2087 - precision: 0.9663 - recall: 0.9604 - auc: 0.9937 - acc: 0.9625 - val_loss: 0.8971 - val_precision: 0.9550 - val_recall: 0.9550 - val_auc: 0.9849 - val_acc: 0.9550\n",
            "Epoch 83/100\n",
            "99/99 [==============================] - 18s 177ms/step - loss: 1.6577 - precision: 0.9376 - recall: 0.9290 - auc: 0.9857 - acc: 0.9331 - val_loss: 0.3841 - val_precision: 0.9369 - val_recall: 0.9369 - val_auc: 0.9867 - val_acc: 0.9369\n",
            "Epoch 84/100\n",
            "99/99 [==============================] - 18s 177ms/step - loss: 0.2276 - precision: 0.9502 - recall: 0.9473 - auc: 0.9958 - acc: 0.9483 - val_loss: 0.1557 - val_precision: 0.9640 - val_recall: 0.9640 - val_auc: 0.9972 - val_acc: 0.9640\n",
            "Epoch 85/100\n",
            "99/99 [==============================] - 18s 179ms/step - loss: 0.1830 - precision: 0.9491 - recall: 0.9452 - auc: 0.9941 - acc: 0.9473 - val_loss: 0.1533 - val_precision: 0.9550 - val_recall: 0.9550 - val_auc: 0.9963 - val_acc: 0.9550\n",
            "Epoch 86/100\n",
            "99/99 [==============================] - 18s 177ms/step - loss: 0.2339 - precision: 0.9653 - recall: 0.9604 - auc: 0.9955 - acc: 0.9655 - val_loss: 0.3293 - val_precision: 0.9459 - val_recall: 0.9459 - val_auc: 0.9932 - val_acc: 0.9459\n",
            "Epoch 87/100\n",
            "99/99 [==============================] - 18s 177ms/step - loss: 0.1967 - precision: 0.9613 - recall: 0.9574 - auc: 0.9948 - acc: 0.9594 - val_loss: 0.1825 - val_precision: 0.9459 - val_recall: 0.9459 - val_auc: 0.9887 - val_acc: 0.9459\n",
            "Epoch 88/100\n",
            "99/99 [==============================] - 18s 177ms/step - loss: 0.1334 - precision: 0.9592 - recall: 0.9533 - auc: 0.9961 - acc: 0.9564 - val_loss: 0.1735 - val_precision: 0.9640 - val_recall: 0.9640 - val_auc: 0.9923 - val_acc: 0.9640\n",
            "Epoch 89/100\n",
            "99/99 [==============================] - 18s 179ms/step - loss: 0.1383 - precision: 0.9520 - recall: 0.9462 - auc: 0.9958 - acc: 0.9493 - val_loss: 0.1047 - val_precision: 0.9730 - val_recall: 0.9730 - val_auc: 0.9974 - val_acc: 0.9730\n",
            "Epoch 90/100\n",
            "99/99 [==============================] - 18s 178ms/step - loss: 0.1166 - precision: 0.9664 - recall: 0.9615 - auc: 0.9972 - acc: 0.9655 - val_loss: 0.1327 - val_precision: 0.9550 - val_recall: 0.9550 - val_auc: 0.9957 - val_acc: 0.9550\n",
            "Epoch 91/100\n",
            "99/99 [==============================] - 18s 178ms/step - loss: 0.3155 - precision: 0.9614 - recall: 0.9594 - auc: 0.9951 - acc: 0.9604 - val_loss: 0.2754 - val_precision: 0.9189 - val_recall: 0.9189 - val_auc: 0.9903 - val_acc: 0.9189\n",
            "Epoch 92/100\n",
            "99/99 [==============================] - 18s 178ms/step - loss: 0.1285 - precision: 0.9726 - recall: 0.9726 - auc: 0.9981 - acc: 0.9726 - val_loss: 0.1171 - val_precision: 0.9730 - val_recall: 0.9730 - val_auc: 0.9978 - val_acc: 0.9730\n",
            "Epoch 93/100\n",
            "99/99 [==============================] - 18s 180ms/step - loss: 0.1304 - precision: 0.9704 - recall: 0.9645 - auc: 0.9964 - acc: 0.9675 - val_loss: 0.1333 - val_precision: 0.9818 - val_recall: 0.9730 - val_auc: 0.9960 - val_acc: 0.9820\n",
            "\n",
            "Reached 0.98 accuracy so cancelling training!\n"
          ],
          "name": "stdout"
        }
      ]
    },
    {
      "cell_type": "code",
      "metadata": {
        "colab": {
          "base_uri": "https://localhost:8080/",
          "height": 308
        },
        "id": "3-YmlPF_mQwv",
        "outputId": "2c59003a-65eb-4f24-91a7-4408a05e397d"
      },
      "source": [
        "import matplotlib.pyplot as plt\n",
        "import numpy as np\n",
        " \n",
        "f, (ax1, ax2) = plt.subplots(1, 2, figsize=(12, 4))\n",
        "t = f.suptitle('CNN Model with Image Augmentation', fontsize=12)\n",
        "f.subplots_adjust(top=0.85, wspace=0.3)\n",
        " \n",
        "epoch_list = list(range(93))\n",
        "ax1.plot(epoch_list, history.history['acc'], label='Train Accuracy')\n",
        "ax1.plot(epoch_list, history.history['val_acc'], label='Validation Accuracy')\n",
        "ax1.set_xticks(np.arange(0, epochs, 5))\n",
        "ax1.set_ylabel('Accuracy Value')\n",
        "ax1.set_xlabel('Epoch')\n",
        "ax1.set_title('Accuracy')\n",
        "l1 = ax1.legend(loc=\"best\")\n",
        " \n",
        "ax2.plot(epoch_list, history.history['loss'], label='Train Loss')\n",
        "ax2.plot(epoch_list, history.history['val_loss'], label='Validation Loss')\n",
        "ax2.set_xticks(np.arange(0, epochs, 5))\n",
        "ax2.set_ylabel('Loss Value')\n",
        "ax2.set_xlabel('Epoch')\n",
        "ax2.set_title('Loss')\n",
        "l2 = ax2.legend(loc=\"best\")"
      ],
      "execution_count": 25,
      "outputs": [
        {
          "output_type": "display_data",
          "data": {
            "image/png": "[encoded data removed]",
            "text/plain": [
              "<Figure size 864x288 with 2 Axes>"
            ]
          },
          "metadata": {
            "tags": [],
            "needs_background": "light"
          }
        }
      ]
    },
    {
      "cell_type": "markdown",
      "metadata": {
        "id": "BlRRbpqVqlqA"
      },
      "source": [
        "## Save Model"
      ]
    },
    {
      "cell_type": "code",
      "metadata": {
        "id": "LG8VxrczpXDB",
        "colab": {
          "base_uri": "https://localhost:8080/"
        },
        "outputId": "d0d14c1f-223d-409b-e97c-822824e0a2d6"
      },
      "source": [
        "model.save('model')"
      ],
      "execution_count": 21,
      "outputs": [
        {
          "output_type": "stream",
          "text": [
            "/usr/local/lib/python3.7/dist-packages/tensorflow/python/keras/utils/generic_utils.py:497: CustomMaskWarning: Custom mask layers require a config and must override get_config. When loading, the custom mask layer must be passed to the custom_objects argument.\n",
            "  category=CustomMaskWarning)\n"
          ],
          "name": "stderr"
        },
        {
          "output_type": "stream",
          "text": [
            "INFO:tensorflow:Assets written to: model/assets\n"
          ],
          "name": "stdout"
        }
      ]
    },
    {
      "cell_type": "code",
      "metadata": {
        "id": "8UyMuA_rpCOC",
        "colab": {
          "base_uri": "https://localhost:8080/"
        },
        "outputId": "cbc7d1b9-4007-4630-f4cd-bb003a29e9ee"
      },
      "source": [
        "!zip -r /content/ResNet_model.zip /content/model/"
      ],
      "execution_count": 22,
      "outputs": [
        {
          "output_type": "stream",
          "text": [
            "  adding: content/model/ (stored 0%)\n",
            "  adding: content/model/keras_metadata.pb (deflated 96%)\n",
            "  adding: content/model/assets/ (stored 0%)\n",
            "  adding: content/model/saved_model.pb (deflated 92%)\n",
            "  adding: content/model/variables/ (stored 0%)\n",
            "  adding: content/model/variables/variables.index (deflated 77%)\n",
            "  adding: content/model/variables/variables.data-00000-of-00001 (deflated 9%)\n"
          ],
          "name": "stdout"
        }
      ]
    },
    {
      "cell_type": "code",
      "metadata": {
        "id": "Sfe8_54MpDpS"
      },
      "source": [
        "from google.colab import files\n",
        "\n",
        "files.download(\"/content/ResNet_model.zip\")"
      ],
      "execution_count": null,
      "outputs": []
    },
    {
      "cell_type": "markdown",
      "metadata": {
        "id": "LuTIh1EMqoZJ"
      },
      "source": [
        "## Load Model"
      ]
    },
    {
      "cell_type": "code",
      "metadata": {
        "colab": {
          "resources": {
            "http://localhost:8080/nbextensions/google.colab/files.js": {
              "data": "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",
              "ok": true,
              "headers": [
                [
                  "content-type",
                  "application/javascript"
                ]
              ],
              "status": 200,
              "status_text": ""
            }
          },
          "base_uri": "https://localhost:8080/",
          "height": 37
        },
        "id": "2QfmwRsJ3eoB",
        "outputId": "35bd1d16-ec2a-48d3-c1e7-0aff355795f0"
      },
      "source": [
        "from google.colab import files\n",
        "\n",
        "uploaded_model = files.upload()"
      ],
      "execution_count": null,
      "outputs": [
        {
          "output_type": "display_data",
          "data": {
            "text/html": [
              "\n",
              "     <input type=\"file\" id=\"files-27215c69-5c0b-4dce-8487-88c4ce633fa6\" name=\"files[]\" multiple disabled\n",
              "        style=\"border:none\" />\n",
              "     <output id=\"result-27215c69-5c0b-4dce-8487-88c4ce633fa6\">\n",
              "      Upload widget is only available when the cell has been executed in the\n",
              "      current browser session. Please rerun this cell to enable.\n",
              "      </output>\n",
              "      <script src=\"/nbextensions/google.colab/files.js\"></script> "
            ],
            "text/plain": [
              "<IPython.core.display.HTML object>"
            ]
          },
          "metadata": {
            "tags": []
          }
        }
      ]
    },
    {
      "cell_type": "code",
      "metadata": {
        "id": "pgED55Y930Q-"
      },
      "source": [
        "import zipfile\n",
        "\n",
        "for fn in uploaded_model.keys():\n",
        "  model_path = '/content/'+ fn\n",
        "  with zipfile.ZipFile(model_path, 'r') as zip_ref:\n",
        "    zip_ref.extractall('/')"
      ],
      "execution_count": null,
      "outputs": []
    },
    {
      "cell_type": "code",
      "metadata": {
        "id": "x2uRRzw8pPd7"
      },
      "source": [
        "import tensorflow as tf\n",
        "\n",
        "model = tf.keras.models.load_model('/content/model')"
      ],
      "execution_count": null,
      "outputs": []
    },
    {
      "cell_type": "markdown",
      "metadata": {
        "id": "qtwZ7p2lq95h"
      },
      "source": [
        "## Predict"
      ]
    },
    {
      "cell_type": "code",
      "metadata": {
        "id": "9CoL9uA1XEYP",
        "colab": {
          "resources": {
            "http://localhost:8080/nbextensions/google.colab/files.js": {
              "data": "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",
              "ok": true,
              "headers": [
                [
                  "content-type",
                  "application/javascript"
                ]
              ],
              "status": 200,
              "status_text": ""
            }
          },
          "base_uri": "https://localhost:8080/",
          "height": 106
        },
        "outputId": "39887dd0-2ce8-49b6-88ed-bb4665922658"
      },
      "source": [
        "from google.colab import files\n",
        "\n",
        "uploaded = files.upload()"
      ],
      "execution_count": null,
      "outputs": [
        {
          "output_type": "display_data",
          "data": {
            "text/html": [
              "\n",
              "     <input type=\"file\" id=\"files-a51499dc-a6c4-49e7-b0f0-2003998fce96\" name=\"files[]\" multiple disabled\n",
              "        style=\"border:none\" />\n",
              "     <output id=\"result-a51499dc-a6c4-49e7-b0f0-2003998fce96\">\n",
              "      Upload widget is only available when the cell has been executed in the\n",
              "      current browser session. Please rerun this cell to enable.\n",
              "      </output>\n",
              "      <script src=\"/nbextensions/google.colab/files.js\"></script> "
            ],
            "text/plain": [
              "<IPython.core.display.HTML object>"
            ]
          },
          "metadata": {
            "tags": []
          }
        },
        {
          "output_type": "stream",
          "text": [
            "Saving gr2.jpg to gr2.jpg\n",
            "Saving gr1.jpg to gr1.jpg\n"
          ],
          "name": "stdout"
        }
      ]
    },
    {
      "cell_type": "code",
      "metadata": {
        "colab": {
          "base_uri": "https://localhost:8080/"
        },
        "id": "3i6Bs1KptbDa",
        "outputId": "697e775a-e382-4057-c8cb-176b852d6529"
      },
      "source": [
        "file_name = []\n",
        "for fn in uploaded.keys():\n",
        "  print('User uploaded file \"{name}\" with length {length} bytes'.format(name=fn, length=len(uploaded[fn])))\n",
        "  file_name.append(fn)"
      ],
      "execution_count": null,
      "outputs": [
        {
          "output_type": "stream",
          "text": [
            "User uploaded file \"gr2.jpg\" with length 53946 bytes\n",
            "User uploaded file \"gr1.jpg\" with length 37306 bytes\n"
          ],
          "name": "stdout"
        }
      ]
    },
    {
      "cell_type": "code",
      "metadata": {
        "id": "BmKi3vTPW1-H",
        "colab": {
          "base_uri": "https://localhost:8080/"
        },
        "outputId": "540c6aa4-f656-4c01-af9a-5356fb9b9631"
      },
      "source": [
        "import warnings \n",
        "warnings.filterwarnings('ignore')\n",
        "import tensorflow.keras.preprocessing.image as image\n",
        " \n",
        "def load_image(image_path):\n",
        "  img = image.load_img(image_path, grayscale=True, target_size=(150, 150))\n",
        "  img_tensor = image.img_to_array(img) \n",
        "  img_tensor = np.expand_dims(img_tensor, axis=0)\n",
        "  img_tensor /= 255. \n",
        "  return img_tensor\n",
        "\n",
        "for file in file_name:\n",
        "  image_path = '/content/' + file\n",
        "\n",
        "  try:\n",
        "    print(file, 'probability: ', model.predict(load_image(image_path)))\n",
        "    prediction = model.predict_classes(load_image(image_path))\n",
        "\n",
        "    if prediction == 0:\n",
        "      print(\"It's Benign\\n\")\n",
        "    if prediction == 1:\n",
        "      print(\"It's Malignant\\n\")\n",
        "    if prediction == 2:\n",
        "      print(\"It's Normal\\n\")\n",
        "\n",
        "  except:\n",
        "    print(\"Error!\")"
      ],
      "execution_count": null,
      "outputs": [
        {
          "output_type": "stream",
          "text": [
            "gr2.jpg probability:  [[0. 1. 0.]]\n",
            "It's Malignant\n",
            "\n",
            "gr1.jpg probability:  [[0. 1. 0.]]\n",
            "It's Malignant\n",
            "\n"
          ],
          "name": "stdout"
        }
      ]
    }
  ]
}